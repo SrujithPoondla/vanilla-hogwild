{
 "cells": [
  {
   "cell_type": "markdown",
   "metadata": {},
   "source": [
    "### Asynchronous SGD updates using Distributed Cache Redis"
   ]
  },
  {
   "cell_type": "markdown",
   "metadata": {},
   "source": [
    "1. Create spot instances\n",
    "2. Mount EFS (Not required for our project)\n",
    "3. Start redis server in all the instances and create a cluster\n",
    "4. Pull the code from github repo (https://github.com/SrujithPoondla/vanilla-hogwild.git)\n",
    "5. If need to divide the dataset between the nodes run the specific cell\n",
    "6. Run the scripts to start training\n",
    "7. After training ends close the instances"
   ]
  },
  {
   "cell_type": "code",
   "execution_count": 1,
   "metadata": {},
   "outputs": [],
   "source": [
    "%reload_ext autoreload\n",
    "%autoreload 2\n",
    "%matplotlib inline"
   ]
  },
  {
   "cell_type": "code",
   "execution_count": 2,
   "metadata": {},
   "outputs": [],
   "source": [
    "from aws_setup import *\n",
    "from argparse import ArgumentParser\n",
    "import boto3\n",
    "import os \n",
    "sys.argv = ['foo']"
   ]
  },
  {
   "cell_type": "markdown",
   "metadata": {},
   "source": [
    "#### Define parameters"
   ]
  },
  {
   "cell_type": "code",
   "execution_count": 3,
   "metadata": {},
   "outputs": [
    {
     "data": {
      "text/plain": [
       "_StoreTrueAction(option_strings=['--is-redis'], dest='is_redis', nargs=0, const=True, default=True, type=None, choices=None, help='Choose whether the model to be trained using redis or not.If not using Redis, model will be trained on single process', metavar=None)"
      ]
     },
     "execution_count": 3,
     "metadata": {},
     "output_type": "execute_result"
    }
   ],
   "source": [
    "parser = ArgumentParser(description='Asynchronous SGD updates using Redis')\n",
    "parser.add_argument('--n-nodes', type=int, default=1, metavar='N',\n",
    "                    help='how many aws instances to start')\n",
    "parser.add_argument('--is-redis', action='store_true', default = True,\n",
    "                    help=\"Choose whether the model to be trained using redis or not.\"\n",
    "                    \"If not using Redis, model will be trained on single process\")\n"
   ]
  },
  {
   "cell_type": "code",
   "execution_count": 4,
   "metadata": {},
   "outputs": [],
   "source": [
    "args = parser.parse_args()\n",
    "vpc_name='vpc-1b056b60'\n",
    "args.n_nodes = 8\n",
    "n_instances = args.n_nodes\n",
    "instance_type = 'm5.2xlarge'\n",
    "ami_sr = 'ami-f679ff89'\n",
    "a_zone = 'us-east-1a'\n",
    "\n",
    "if args.n_nodes is 2 and args.is_redis:\n",
    "    print('Cant create a cluster with 2 redis nodes. Chose either a 3 node cluster or single instance')"
   ]
  },
  {
   "cell_type": "markdown",
   "metadata": {},
   "source": [
    "#### Get Existing VPC by tag name"
   ]
  },
  {
   "cell_type": "code",
   "execution_count": 5,
   "metadata": {},
   "outputs": [
    {
     "data": {
      "text/plain": [
       "ec2.Vpc(id='vpc-1b056b60')"
      ]
     },
     "execution_count": 5,
     "metadata": {},
     "output_type": "execute_result"
    }
   ],
   "source": [
    "vpc = get_vpc(vpc_name); vpc"
   ]
  },
  {
   "cell_type": "markdown",
   "metadata": {},
   "source": [
    "#### Create EFS (if you haven't already)"
   ]
  },
  {
   "cell_type": "code",
   "execution_count": 6,
   "metadata": {},
   "outputs": [],
   "source": [
    "# efs_tag = f'{vpc_name}-efs'"
   ]
  },
  {
   "cell_type": "code",
   "execution_count": 7,
   "metadata": {},
   "outputs": [],
   "source": [
    "# efs = create_efs(efs_tag, vpc, performance_mode='maxIO')"
   ]
  },
  {
   "cell_type": "markdown",
   "metadata": {},
   "source": [
    "#### Request Spot instance"
   ]
  },
  {
   "cell_type": "code",
   "execution_count": 8,
   "metadata": {},
   "outputs": [],
   "source": [
    "instance_name = f'{vpc_name}-instance'\n",
    "# Recommend a high compute instance as we need to do multi-threaded resizing later on"
   ]
  },
  {
   "cell_type": "code",
   "execution_count": 9,
   "metadata": {},
   "outputs": [
    {
     "name": "stdout",
     "output_type": "stream",
     "text": [
      "Spot price: 0.126400, Bid price: 0.3792\n"
     ]
    }
   ],
   "source": [
    "spot_price = get_spot_prices()[instance_type]\n",
    "bid_price = \"%.4f\" % (float(spot_price)*3)\n",
    "print(f'Spot price: {spot_price}, Bid price: {bid_price}')"
   ]
  },
  {
   "cell_type": "code",
   "execution_count": 10,
   "metadata": {},
   "outputs": [],
   "source": [
    "launch_specs = LaunchSpecs(vpc, instance_type=instance_type, ami= ami_sr,availability_zone=a_zone).build()"
   ]
  },
  {
   "cell_type": "code",
   "execution_count": 11,
   "metadata": {},
   "outputs": [],
   "source": [
    "# launch_specs['BlockDeviceMappings'][0]['Ebs']['VolumeSize'] = 1000"
   ]
  },
  {
   "cell_type": "code",
   "execution_count": 12,
   "metadata": {},
   "outputs": [
    {
     "data": {
      "text/plain": [
       "{'BlockDeviceMappings': [{'DeviceName': '/dev/sda1',\n",
       "   'Ebs': {'DeleteOnTermination': True,\n",
       "    'VolumeSize': 20,\n",
       "    'VolumeType': 'gp2'}}],\n",
       " 'ImageId': 'ami-f679ff89',\n",
       " 'InstanceType': 'm5.2xlarge',\n",
       " 'KeyName': 'aws-key-spot-instance',\n",
       " 'NetworkInterfaces': [{'AssociatePublicIpAddress': True,\n",
       "   'DeviceIndex': 0,\n",
       "   'Groups': ['sg-2624da6f'],\n",
       "   'SubnetId': 'subnet-10d9d04d'}]}"
      ]
     },
     "execution_count": 12,
     "metadata": {},
     "output_type": "execute_result"
    }
   ],
   "source": [
    "launch_specs"
   ]
  },
  {
   "cell_type": "code",
   "execution_count": 13,
   "metadata": {},
   "outputs": [
    {
     "name": "stdout",
     "output_type": "stream",
     "text": [
      "Keypair exists\n",
      "Waiting on spot fullfillment...\n",
      "Fulfillment completed. InstanceId: i-05c5b16a3ed11e3c5\n",
      "Waiting on spot fullfillment...\n",
      "Fulfillment completed. InstanceId: i-024da8c6a575c63c2\n",
      "Waiting on spot fullfillment...\n",
      "Fulfillment completed. InstanceId: i-08751280993098d3c\n",
      "Waiting on spot fullfillment...\n",
      "Fulfillment completed. InstanceId: i-08c716a4a5757b0db\n",
      "Waiting on spot fullfillment...\n",
      "Fulfillment completed. InstanceId: i-0fc573f549033dd8d\n",
      "Waiting on spot fullfillment...\n",
      "Fulfillment completed. InstanceId: i-012a00a6d61d6dbdb\n",
      "Waiting on spot fullfillment...\n",
      "Fulfillment completed. InstanceId: i-016fe26331d549ad1\n",
      "Waiting on spot fullfillment...\n",
      "Fulfillment completed. InstanceId: i-002013ecb90d32339\n",
      "Rebooting...\n",
      "Completed. SSH:  ssh -i ~/.ssh/aws-key-spot-instance.pem ubuntu@34.207.134.30\n",
      "Completed. SSH:  ssh -i ~/.ssh/aws-key-spot-instance.pem ubuntu@184.72.93.174\n",
      "Completed. SSH:  ssh -i ~/.ssh/aws-key-spot-instance.pem ubuntu@35.171.184.36\n",
      "Completed. SSH:  ssh -i ~/.ssh/aws-key-spot-instance.pem ubuntu@52.90.119.145\n",
      "Completed. SSH:  ssh -i ~/.ssh/aws-key-spot-instance.pem ubuntu@35.168.17.216\n",
      "Completed. SSH:  ssh -i ~/.ssh/aws-key-spot-instance.pem ubuntu@34.238.169.132\n",
      "Completed. SSH:  ssh -i ~/.ssh/aws-key-spot-instance.pem ubuntu@54.152.50.63\n",
      "Completed. SSH:  ssh -i ~/.ssh/aws-key-spot-instance.pem ubuntu@35.153.138.74\n",
      "[ec2.Instance(id='i-024da8c6a575c63c2'), ec2.Instance(id='i-0fc573f549033dd8d'), ec2.Instance(id='i-08c716a4a5757b0db'), ec2.Instance(id='i-08751280993098d3c'), ec2.Instance(id='i-002013ecb90d32339'), ec2.Instance(id='i-05c5b16a3ed11e3c5'), ec2.Instance(id='i-012a00a6d61d6dbdb'), ec2.Instance(id='i-016fe26331d549ad1')]\n"
     ]
    }
   ],
   "source": [
    "ec2 = boto3.resource('ec2')\n",
    "filters = [\n",
    "    {\n",
    "        'Name': 'instance-state-name',\n",
    "        'Values': ['running']\n",
    "    }\n",
    "]\n",
    "# filter the instances based on filters() above\n",
    "ec2_instances = list(ec2.instances.filter(Filters=filters))\n",
    "instances = []\n",
    "for instance in ec2_instances:\n",
    "    instances.append(instance)\n",
    "instances_to_request = n_instances-len(instances)\n",
    "instances = create_multiple_spot_instance(instance_name, launch_specs,instance_count=args.n_nodes, spot_price=bid_price)\n",
    "print(instances)"
   ]
  },
  {
   "cell_type": "code",
   "execution_count": 14,
   "metadata": {},
   "outputs": [
    {
     "name": "stdout",
     "output_type": "stream",
     "text": [
      "['ssh -i ~/.ssh/aws-key-spot-instance.pem ubuntu@34.207.134.30', 'ssh -i ~/.ssh/aws-key-spot-instance.pem ubuntu@184.72.93.174', 'ssh -i ~/.ssh/aws-key-spot-instance.pem ubuntu@35.171.184.36', 'ssh -i ~/.ssh/aws-key-spot-instance.pem ubuntu@52.90.119.145', 'ssh -i ~/.ssh/aws-key-spot-instance.pem ubuntu@35.168.17.216', 'ssh -i ~/.ssh/aws-key-spot-instance.pem ubuntu@34.238.169.132', 'ssh -i ~/.ssh/aws-key-spot-instance.pem ubuntu@54.152.50.63', 'ssh -i ~/.ssh/aws-key-spot-instance.pem ubuntu@35.153.138.74'] ['34.207.134.30', '184.72.93.174', '35.171.184.36', '52.90.119.145', '35.168.17.216', '34.238.169.132', '54.152.50.63', '35.153.138.74'] ['10.0.0.4', '10.0.0.9', '10.0.0.8', '10.0.0.6', '10.0.0.5', '10.0.0.13', '10.0.0.12', '10.0.0.11']\n"
     ]
    }
   ],
   "source": [
    "# instance = get_instance(instance_name); instance\n",
    "ssh_commands = []\n",
    "public_ip_list = []\n",
    "private_ip_list = []\n",
    "for instance in instances:\n",
    "    # for each instance, append to lists\n",
    "    private_ip_list.append(instance.private_ip_address)\n",
    "    public_ip_list.append(instance.public_ip_address)\n",
    "    ssh_commands.append(get_ssh_command(instance))\n",
    "print(ssh_commands, public_ip_list, private_ip_list)"
   ]
  },
  {
   "cell_type": "markdown",
   "metadata": {},
   "source": [
    "#### Terminating instances"
   ]
  },
  {
   "cell_type": "code",
   "execution_count": 15,
   "metadata": {},
   "outputs": [],
   "source": [
    "# for instance in instances:\n",
    "#     print(instance.terminate())"
   ]
  },
  {
   "cell_type": "markdown",
   "metadata": {},
   "source": [
    "### SSH"
   ]
  },
  {
   "cell_type": "code",
   "execution_count": 16,
   "metadata": {},
   "outputs": [
    {
     "name": "stdout",
     "output_type": "stream",
     "text": [
      "Connecting to SSH...\n",
      "Got client\n",
      "/Users/srujithpoondla/.ssh/aws-key-spot-instance.pem\n",
      "Exception: timed out Retrying...\n",
      "Connected!\n",
      "Connecting to SSH...\n",
      "Got client\n",
      "/Users/srujithpoondla/.ssh/aws-key-spot-instance.pem\n",
      "Connected!\n",
      "Connecting to SSH...\n",
      "Got client\n",
      "/Users/srujithpoondla/.ssh/aws-key-spot-instance.pem\n",
      "Connected!\n",
      "Connecting to SSH...\n",
      "Got client\n",
      "/Users/srujithpoondla/.ssh/aws-key-spot-instance.pem\n",
      "Connected!\n",
      "Connecting to SSH...\n",
      "Got client\n",
      "/Users/srujithpoondla/.ssh/aws-key-spot-instance.pem\n",
      "Exception: [Errno None] Unable to connect to port 22 on 35.168.17.216 Retrying...\n",
      "Connected!\n",
      "Connecting to SSH...\n",
      "Got client\n",
      "/Users/srujithpoondla/.ssh/aws-key-spot-instance.pem\n",
      "Connected!\n",
      "Connecting to SSH...\n",
      "Got client\n",
      "/Users/srujithpoondla/.ssh/aws-key-spot-instance.pem\n",
      "Connected!\n",
      "Connecting to SSH...\n",
      "Got client\n",
      "/Users/srujithpoondla/.ssh/aws-key-spot-instance.pem\n",
      "Connected!\n",
      "[<paramiko.client.SSHClient object at 0x1135097f0>, <paramiko.client.SSHClient object at 0x1136033c8>, <paramiko.client.SSHClient object at 0x113aa1e80>, <paramiko.client.SSHClient object at 0x113ab5940>, <paramiko.client.SSHClient object at 0x113ab5668>, <paramiko.client.SSHClient object at 0x113abbcc0>, <paramiko.client.SSHClient object at 0x113abe780>, <paramiko.client.SSHClient object at 0x113ac8320>]\n"
     ]
    }
   ],
   "source": [
    "\n",
    "def get_ssh_clients(instances):\n",
    "    clients = []\n",
    "    for instance in instances:\n",
    "        clients.append(connect_to_instance(instance))\n",
    "    print(clients)\n",
    "    return clients\n",
    "clients = get_ssh_clients(instances)"
   ]
  },
  {
   "cell_type": "markdown",
   "metadata": {},
   "source": [
    "#### Mount EFS"
   ]
  },
  {
   "cell_type": "code",
   "execution_count": 17,
   "metadata": {},
   "outputs": [],
   "source": [
    "# efs_addr = get_efs_address('fast-ai-efs'); efs_addr"
   ]
  },
  {
   "cell_type": "code",
   "execution_count": 18,
   "metadata": {},
   "outputs": [],
   "source": [
    "# _ = run_command(client, 'mkdir ~/efs_mount')"
   ]
  },
  {
   "cell_type": "code",
   "execution_count": 19,
   "metadata": {},
   "outputs": [],
   "source": [
    "# efs_mount_cmd = f'sudo mount -t nfs -o nfsvers=4.1,rsize=1048576,wsize=1048576,hard,timeo=600,retrans=2 {efs_addr}:/ ~/efs_mount'\n",
    "# _ = run_command(client, efs_mount_cmd)"
   ]
  },
  {
   "cell_type": "code",
   "execution_count": 20,
   "metadata": {},
   "outputs": [],
   "source": [
    "# _ = run_command(client, 'ls efs_mount') # no reformatting"
   ]
  },
  {
   "cell_type": "markdown",
   "metadata": {
    "collapsed": true
   },
   "source": [
    "## Tmux"
   ]
  },
  {
   "cell_type": "code",
   "execution_count": 21,
   "metadata": {},
   "outputs": [
    {
     "name": "stdout",
     "output_type": "stream",
     "text": [
      "[<aws_setup.TmuxSession object at 0x113611cc0>, <aws_setup.TmuxSession object at 0x113ab5630>, <aws_setup.TmuxSession object at 0x113ab59e8>, <aws_setup.TmuxSession object at 0x113aa1c50>, <aws_setup.TmuxSession object at 0x113abe4a8>, <aws_setup.TmuxSession object at 0x113abe828>, <aws_setup.TmuxSession object at 0x113ac8438>, <aws_setup.TmuxSession object at 0x113ac8080>]\n"
     ]
    }
   ],
   "source": [
    "def get_tmux_sess(clients):\n",
    "    tsess = []\n",
    "    for client in clients:\n",
    "        if 'sess' not in run_command(client,'tmux ls'):\n",
    "            tsess.append(TmuxSession(client, 'sess'))         \n",
    "    print(tsess)\n",
    "    return tsess\n",
    "tsess = get_tmux_sess(clients)"
   ]
  },
  {
   "cell_type": "markdown",
   "metadata": {},
   "source": [
    "#### Activate Conda Environment in all the instances and check whether we need to create a cluster or not. Then start redis using conf files."
   ]
  },
  {
   "cell_type": "code",
   "execution_count": 22,
   "metadata": {},
   "outputs": [
    {
     "name": "stdout",
     "output_type": "stream",
     "text": [
      "('', '')\n",
      "('', '')\n",
      "('', '')\n",
      "('', '')\n",
      "('', '')\n",
      "('', '')\n",
      "('', '')\n",
      "('', '')\n"
     ]
    }
   ],
   "source": [
    "for client,sess in zip(clients,tsess):\n",
    "    if 'redis' not in run_command(client,'tmux ls'):\n",
    "        redis = TmuxSession(client, 'redis-sess')\n",
    "    run_command(client, 'cd ~/vanilla-hogwild && git stash && git pull && git checkout stable')\n",
    "    if (args.n_nodes >= 3):\n",
    "        redis.run_command('rm dump.rdb && rm appendonly.aof && rm nodes-6379.conf')\n",
    "        print(redis.run_command('~/miniconda3/envs/largescale/bin/redis-server ~/redis-conf/redis_cluster.conf'))\n",
    "    else:\n",
    "        redis.run_command('rm dump.rdb && rm appendonly.aof && rm nodes-6379.conf')\n",
    "        print(redis.run_command('~/miniconda3/envs/largescale/bin/redis-server ~/redis-conf/redis.conf'))\n",
    "  "
   ]
  },
  {
   "cell_type": "markdown",
   "metadata": {},
   "source": [
    "#### Create redis cluster"
   ]
  },
  {
   "cell_type": "code",
   "execution_count": 23,
   "metadata": {},
   "outputs": [
    {
     "name": "stdout",
     "output_type": "stream",
     "text": [
      "10.0.0.4:6379 10.0.0.9:6379 10.0.0.8:6379 10.0.0.6:6379 10.0.0.5:6379 10.0.0.13:6379 10.0.0.12:6379 10.0.0.11:6379 \n"
     ]
    }
   ],
   "source": [
    "if args.n_nodes >= 3:\n",
    "    ip_str = ''\n",
    "    for ip in private_ip_list:\n",
    "        ip_str = ip_str+ ip +\":6379 \"\n",
    "    print(ip_str)\n",
    "    redis = TmuxSession(clients[0],'redis-serv-sess')\n",
    "    redis.run_command('cd /home/ubuntu/redis-4.0.9/src && ./redis-trib.rb create '+ ip_str)\n",
    "    redis.run_command('yes')\n",
    "    redis.run_command('exit')\n",
    "    redis.run_command('exit')\n",
    "    redis.run_command('exit')\n",
    "    redis.run_command('exit')\n"
   ]
  },
  {
   "cell_type": "markdown",
   "metadata": {},
   "source": [
    "#### Creating Arguments String"
   ]
  },
  {
   "cell_type": "code",
   "execution_count": 24,
   "metadata": {},
   "outputs": [],
   "source": [
    "#Model parameters\n",
    "batch_size = 128\n",
    "epochs = 3\n",
    "lr = 0.01\n",
    "momentum = 0.5\n",
    "log_interval = 50\n",
    "num_processes = 1\n",
    "nnet_arch = 'LeNet'\n",
    "dataset = 'cifar10'\n",
    "args.is_redis = True\n"
   ]
  },
  {
   "cell_type": "code",
   "execution_count": 25,
   "metadata": {},
   "outputs": [],
   "source": [
    "hosts = ''\n",
    "for ip in private_ip_list:\n",
    "    hosts = hosts+ip+','\n",
    "hosts = hosts.strip(',')"
   ]
  },
  {
   "cell_type": "code",
   "execution_count": 26,
   "metadata": {},
   "outputs": [
    {
     "name": "stdout",
     "output_type": "stream",
     "text": [
      "--is-redis=True --dataset=cifar10 --nnet-arch=LeNet --num-processes=1 --batch-size=128 --lr=0.01 --hosts=10.0.0.4,10.0.0.9,10.0.0.8,10.0.0.6,10.0.0.5,10.0.0.13,10.0.0.12,10.0.0.11 --epochs=3\n"
     ]
    }
   ],
   "source": [
    "#dataset can be 'MNIST' or 'cifar10'\n",
    "#architecture can be 'LeNet' or 'ResNet'(still working on this)\n",
    "#num_processes should be either 1 or 2\n",
    "#batch size 128,256,512,1024,2048\n",
    "\n",
    "arg_str = '--is-redis='+str(args.is_redis)+' --dataset='+dataset+' --nnet-arch='+nnet_arch+' --num-processes='+ str(num_processes) + ' --batch-size='+str(batch_size) +' --lr='+str(lr) + ' --hosts='+hosts +' --epochs='+str(epochs)\n",
    "\n",
    "print(arg_str)"
   ]
  },
  {
   "cell_type": "markdown",
   "metadata": {},
   "source": [
    "#### Chose the log file name"
   ]
  },
  {
   "cell_type": "code",
   "execution_count": 27,
   "metadata": {},
   "outputs": [
    {
     "name": "stdout",
     "output_type": "stream",
     "text": [
      "Log file name: cifar10-LeNet-128-1-redis\n"
     ]
    }
   ],
   "source": [
    "if args.is_redis:\n",
    "    log_file = dataset+'-'+nnet_arch+'-'+str(batch_size)+'-'+str(num_processes)+'-'+ 'redis'\n",
    "else:\n",
    "    log_file = dataset+'-'+nnet_arch+'-'+str(batch_size)+'-'+str(num_processes)\n",
    "print('Log file name: '+log_file)"
   ]
  },
  {
   "cell_type": "code",
   "execution_count": 28,
   "metadata": {},
   "outputs": [],
   "source": [
    "out = run_command(clients[0],'w')[0].split(',')[1].strip().split(' ')[0]\n",
    "sleep(40)"
   ]
  },
  {
   "cell_type": "code",
   "execution_count": 29,
   "metadata": {},
   "outputs": [
    {
     "name": "stdout",
     "output_type": "stream",
     "text": [
      "/Users/srujithpoondla/lsml_results/8/cifar10-LeNet-128-1-redis0\n",
      "copied README back here\n",
      "/Users/srujithpoondla/lsml_results/8/cifar10-LeNet-128-1-redis1\n",
      "copied README back here\n",
      "/Users/srujithpoondla/lsml_results/8/cifar10-LeNet-128-1-redis2\n",
      "copied README back here\n",
      "/Users/srujithpoondla/lsml_results/8/cifar10-LeNet-128-1-redis3\n",
      "copied README back here\n",
      "/Users/srujithpoondla/lsml_results/8/cifar10-LeNet-128-1-redis4\n",
      "copied README back here\n",
      "/Users/srujithpoondla/lsml_results/8/cifar10-LeNet-128-1-redis5\n",
      "copied README back here\n",
      "/Users/srujithpoondla/lsml_results/8/cifar10-LeNet-128-1-redis6\n",
      "copied README back here\n",
      "/Users/srujithpoondla/lsml_results/8/cifar10-LeNet-128-1-redis7\n",
      "copied README back here\n"
     ]
    }
   ],
   "source": [
    "count = 0\n",
    "running = True\n",
    "for sess,ip in zip(tsess,private_ip_list):\n",
    "    sess.run_command('source activate largescale')\n",
    "    sess.run_command('~/miniconda3/envs/largescale/bin/redis-cli -h '+str(ip) +' flushall')\n",
    "    sess.run_command('python3 -u ~/vanilla-hogwild/main.py '+arg_str+ ' 2>&1 | tee '+log_file)\n",
    "\n",
    "# sleep(100)\n",
    "while(running):\n",
    "    sleep(10)\n",
    "    for client in clients:\n",
    "        try:\n",
    "            out=run_command(client,'pidof python3')[0]\n",
    "#             print(out.strip('').split(' '))\n",
    "            if len(out.strip(' ').split(' ')[0])>1:\n",
    "#                 print(run_command(client,'pidof python3')[0].strip(' ').split(' '))\n",
    "                continue\n",
    "            else:\n",
    "                count = count+1\n",
    "        except Exception as e:\n",
    "            print(e)\n",
    "        if count==len(clients):\n",
    "            running = False\n",
    "            break\n",
    "# sleep(30)\n",
    "path = \"/Users/srujithpoondla/lsml_results/\"+str(args.n_nodes)+\"/\"\n",
    "if not os.path.exists(path):\n",
    "    os.mkdir(path)\n",
    "for i,client in enumerate(clients):\n",
    "    sftp = client.open_sftp()\n",
    "    print(path+log_file+str(i))\n",
    "    sftp.get(log_file, path+log_file+str(i))\n",
    "    print('copied README back here')\n"
   ]
  },
  {
   "cell_type": "markdown",
   "metadata": {},
   "source": [
    "#### Terminate all instances"
   ]
  },
  {
   "cell_type": "code",
   "execution_count": 30,
   "metadata": {},
   "outputs": [
    {
     "name": "stdout",
     "output_type": "stream",
     "text": [
      "{'TerminatingInstances': [{'CurrentState': {'Code': 32, 'Name': 'shutting-down'}, 'InstanceId': 'i-024da8c6a575c63c2', 'PreviousState': {'Code': 16, 'Name': 'running'}}], 'ResponseMetadata': {'RequestId': 'b3e15be9-f37c-431f-b3a3-d3debcc1b407', 'HTTPStatusCode': 200, 'HTTPHeaders': {'content-type': 'text/xml;charset=UTF-8', 'transfer-encoding': 'chunked', 'vary': 'Accept-Encoding', 'date': 'Sun, 06 May 2018 03:36:04 GMT', 'server': 'AmazonEC2'}, 'RetryAttempts': 0}}\n",
      "{'TerminatingInstances': [{'CurrentState': {'Code': 32, 'Name': 'shutting-down'}, 'InstanceId': 'i-0fc573f549033dd8d', 'PreviousState': {'Code': 16, 'Name': 'running'}}], 'ResponseMetadata': {'RequestId': '4cbf45e9-c090-41ff-9aa0-826765ae6eae', 'HTTPStatusCode': 200, 'HTTPHeaders': {'content-type': 'text/xml;charset=UTF-8', 'transfer-encoding': 'chunked', 'vary': 'Accept-Encoding', 'date': 'Sun, 06 May 2018 03:36:05 GMT', 'server': 'AmazonEC2'}, 'RetryAttempts': 0}}\n",
      "{'TerminatingInstances': [{'CurrentState': {'Code': 32, 'Name': 'shutting-down'}, 'InstanceId': 'i-08c716a4a5757b0db', 'PreviousState': {'Code': 16, 'Name': 'running'}}], 'ResponseMetadata': {'RequestId': '5e134947-c74f-417b-84fe-58b9dd00b413', 'HTTPStatusCode': 200, 'HTTPHeaders': {'content-type': 'text/xml;charset=UTF-8', 'transfer-encoding': 'chunked', 'vary': 'Accept-Encoding', 'date': 'Sun, 06 May 2018 03:36:05 GMT', 'server': 'AmazonEC2'}, 'RetryAttempts': 0}}\n",
      "{'TerminatingInstances': [{'CurrentState': {'Code': 32, 'Name': 'shutting-down'}, 'InstanceId': 'i-08751280993098d3c', 'PreviousState': {'Code': 16, 'Name': 'running'}}], 'ResponseMetadata': {'RequestId': '3c5873d8-cc75-4fae-a335-3ada348cd14e', 'HTTPStatusCode': 200, 'HTTPHeaders': {'content-type': 'text/xml;charset=UTF-8', 'transfer-encoding': 'chunked', 'vary': 'Accept-Encoding', 'date': 'Sun, 06 May 2018 03:36:05 GMT', 'server': 'AmazonEC2'}, 'RetryAttempts': 0}}\n",
      "{'TerminatingInstances': [{'CurrentState': {'Code': 32, 'Name': 'shutting-down'}, 'InstanceId': 'i-002013ecb90d32339', 'PreviousState': {'Code': 16, 'Name': 'running'}}], 'ResponseMetadata': {'RequestId': '3770a8d4-b8c2-4dc7-ba95-bcc2402019bf', 'HTTPStatusCode': 200, 'HTTPHeaders': {'content-type': 'text/xml;charset=UTF-8', 'transfer-encoding': 'chunked', 'vary': 'Accept-Encoding', 'date': 'Sun, 06 May 2018 03:36:05 GMT', 'server': 'AmazonEC2'}, 'RetryAttempts': 0}}\n",
      "{'TerminatingInstances': [{'CurrentState': {'Code': 32, 'Name': 'shutting-down'}, 'InstanceId': 'i-05c5b16a3ed11e3c5', 'PreviousState': {'Code': 16, 'Name': 'running'}}], 'ResponseMetadata': {'RequestId': '694eee64-f647-4d0d-905d-570f57d29044', 'HTTPStatusCode': 200, 'HTTPHeaders': {'content-type': 'text/xml;charset=UTF-8', 'transfer-encoding': 'chunked', 'vary': 'Accept-Encoding', 'date': 'Sun, 06 May 2018 03:36:06 GMT', 'server': 'AmazonEC2'}, 'RetryAttempts': 0}}\n",
      "{'TerminatingInstances': [{'CurrentState': {'Code': 32, 'Name': 'shutting-down'}, 'InstanceId': 'i-012a00a6d61d6dbdb', 'PreviousState': {'Code': 16, 'Name': 'running'}}], 'ResponseMetadata': {'RequestId': '0dfa9238-8811-45e6-831a-423f2090e5b9', 'HTTPStatusCode': 200, 'HTTPHeaders': {'content-type': 'text/xml;charset=UTF-8', 'transfer-encoding': 'chunked', 'vary': 'Accept-Encoding', 'date': 'Sun, 06 May 2018 03:36:06 GMT', 'server': 'AmazonEC2'}, 'RetryAttempts': 0}}\n",
      "{'TerminatingInstances': [{'CurrentState': {'Code': 32, 'Name': 'shutting-down'}, 'InstanceId': 'i-016fe26331d549ad1', 'PreviousState': {'Code': 16, 'Name': 'running'}}], 'ResponseMetadata': {'RequestId': 'b53d94f0-7a29-4c23-8681-107f2b12789e', 'HTTPStatusCode': 200, 'HTTPHeaders': {'content-type': 'text/xml;charset=UTF-8', 'transfer-encoding': 'chunked', 'vary': 'Accept-Encoding', 'date': 'Sun, 06 May 2018 03:36:06 GMT', 'server': 'AmazonEC2'}, 'RetryAttempts': 0}}\n"
     ]
    }
   ],
   "source": [
    "for instance in instances:\n",
    "    print(instance.terminate())"
   ]
  },
  {
   "cell_type": "code",
   "execution_count": 31,
   "metadata": {},
   "outputs": [],
   "source": [
    "l =[ 1,2,3]\n",
    "l = l[:3]"
   ]
  },
  {
   "cell_type": "code",
   "execution_count": 32,
   "metadata": {},
   "outputs": [
    {
     "data": {
      "text/plain": [
       "[1, 2, 3]"
      ]
     },
     "execution_count": 32,
     "metadata": {},
     "output_type": "execute_result"
    }
   ],
   "source": [
    "l"
   ]
  },
  {
   "cell_type": "code",
   "execution_count": null,
   "metadata": {},
   "outputs": [],
   "source": []
  }
 ],
 "metadata": {
  "kernelspec": {
   "display_name": "Python 3",
   "language": "python",
   "name": "python3"
  },
  "language_info": {
   "codemirror_mode": {
    "name": "ipython",
    "version": 3
   },
   "file_extension": ".py",
   "mimetype": "text/x-python",
   "name": "python",
   "nbconvert_exporter": "python",
   "pygments_lexer": "ipython3",
   "version": "3.6.4"
  }
 },
 "nbformat": 4,
 "nbformat_minor": 2
}
